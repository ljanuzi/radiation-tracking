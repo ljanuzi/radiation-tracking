{
 "cells": [
  {
   "cell_type": "code",
   "execution_count": 3,
   "metadata": {},
   "outputs": [
    {
     "name": "stderr",
     "output_type": "stream",
     "text": [
      "C:\\Users\\AKSHAYANIVASHINI\\AppData\\Local\\Temp\\ipykernel_18216\\769437920.py:5: DtypeWarning: Columns (9,10) have mixed types. Specify dtype option on import or set low_memory=False.\n",
      "  df = pd.read_csv(file_path)\n"
     ]
    },
    {
     "name": "stdout",
     "output_type": "stream",
     "text": [
      "               Captured Time   Latitude   Longitude  Value    Unit  \\\n",
      "4282697  2024-02-24 02:55:33  34.482430  136.162838   49.0     cpm   \n",
      "4282696  2024-02-24 02:55:36  34.482734  136.163179   53.0     cpm   \n",
      "4282695  2024-02-24 02:55:37  34.482662  136.163022   48.0     cpm   \n",
      "4282694  2024-02-24 02:55:38  34.482562  136.163062   42.0     cpm   \n",
      "4282693  2024-02-24 02:55:38  34.482453  136.162835   51.0     cpm   \n",
      "...                      ...        ...         ...    ...     ...   \n",
      "4        2024-04-18 01:59:58  37.010500  140.925300   13.0     cpm   \n",
      "3        2024-04-18 01:59:58  37.752099  140.470826    0.0     cpm   \n",
      "2        2024-04-18 01:59:59  37.010500  140.925300   27.2  status   \n",
      "1        2024-04-18 01:59:58  34.482658  136.163273   33.0     cpm   \n",
      "0        2024-04-18 01:59:59  37.752099  140.470826   27.6  status   \n",
      "\n",
      "        Location Name  Device ID                            MD5Sum  Height  \\\n",
      "4282697           NaN    65003.0  95539927be4162796066fd69bff1801f     NaN   \n",
      "4282696           NaN    65000.0  610c08df23a606746b48d8328059d175     NaN   \n",
      "4282695           NaN    65001.0  f4cad3c88d005c7fe8a214c72c83d900     NaN   \n",
      "4282694           NaN    65007.0  af2413dd4b504b095c9a64558e889542     NaN   \n",
      "4282693           NaN    65003.0  6a7c5a28d026e2eb409b97503f56d199     NaN   \n",
      "...               ...        ...                               ...     ...   \n",
      "4                 NaN   100332.0  b74950cf333e9716f2dc49536af7315c    60.0   \n",
      "3                 NaN   100322.0  701aaff792b56ee3014f3fb7b1fac4f7    60.0   \n",
      "2                 NaN   100339.0  57b79fe5ee854f4f696526c659658773    60.0   \n",
      "1                 NaN    65002.0  94fae20601afe7a39427fa272c34f3cb     NaN   \n",
      "0                 NaN   100329.0  b09ce237c89754109a9f307a8666490d    60.0   \n",
      "\n",
      "        Surface Radiation               Uploaded Time  Loader ID  \n",
      "4282697     NaN       NaN  2024-02-24 02:55:33.988218        NaN  \n",
      "4282696     NaN       NaN  2024-02-24 02:55:37.663463        NaN  \n",
      "4282695     NaN       NaN  2024-02-24 02:55:37.953454        NaN  \n",
      "4282694     NaN       NaN  2024-02-24 02:55:38.663451        NaN  \n",
      "4282693     NaN       NaN  2024-02-24 02:55:38.975377        NaN  \n",
      "...         ...       ...                         ...        ...  \n",
      "4           NaN       NaN  2024-04-18 01:59:58.679424        NaN  \n",
      "3           NaN       NaN  2024-04-18 01:59:58.821474        NaN  \n",
      "2           NaN       NaN  2024-04-18 01:59:59.215916        NaN  \n",
      "1           NaN       NaN  2024-04-18 01:59:59.298878        NaN  \n",
      "0           NaN       NaN  2024-04-18 01:59:59.377125        NaN  \n",
      "\n",
      "[4282698 rows x 13 columns]\n"
     ]
    }
   ],
   "source": [
    "import pandas as pd\n",
    "\n",
    "# Load the CSV file\n",
    "file_path = '../data/measurements_part_1.csv'  # replace with your file path\n",
    "df = pd.read_csv(file_path)\n",
    "\n",
    "# Reverse the order of the rows\n",
    "df_reversed = df.iloc[::-1]\n",
    "\n",
    "# Display the reversed DataFrame\n",
    "print(df_reversed)\n",
    "\n",
    "# Save the reversed DataFrame to a new CSV file if needed\n",
    "reversed_file_path = '../data/measurements_reversed.csv'  # replace with your desired output path\n",
    "df_reversed.to_csv(reversed_file_path, index=False)\n"
   ]
  },
  {
   "cell_type": "code",
   "execution_count": 2,
   "metadata": {},
   "outputs": [
    {
     "name": "stderr",
     "output_type": "stream",
     "text": [
      "C:\\Users\\AKSHAYANIVASHINI\\AppData\\Local\\Temp\\ipykernel_12068\\912668225.py:28: DtypeWarning: Columns (9,10) have mixed types. Specify dtype option on import or set low_memory=False.\n",
      "  measurements_df = pd.read_csv(measurements_file)\n"
     ]
    },
    {
     "name": "stdout",
     "output_type": "stream",
     "text": [
      "Appended row 1 to try-2.csv\n",
      "Appended row 2 to try-2.csv\n",
      "Appended row 3 to try-2.csv\n",
      "Appended row 4 to try-2.csv\n",
      "Appended row 5 to try-2.csv\n"
     ]
    }
   ],
   "source": [
    "import pandas as pd\n",
    "import time\n",
    "import os\n",
    "\n",
    "# Function to append a row to a CSV file\n",
    "def append_row_to_csv(file_name, row):\n",
    "    try:\n",
    "        row.to_frame().T.to_csv(file_name, mode='a', header=False, index=False)\n",
    "    except Exception as e:\n",
    "        print(f\"Error appending row to {file_name}: {e}\")\n",
    "\n",
    "def main():\n",
    "    # File paths\n",
    "    measurements_file = '../data/measurements_reversed.csv'\n",
    "    real_time_data = '../data/real_time_data_simulation.csv'\n",
    "\n",
    "    # Check if files exist\n",
    "    if not os.path.exists(measurements_file):\n",
    "        print(f\"File not found: {measurements_file}\")\n",
    "        return\n",
    "\n",
    "    if not os.path.exists(real_time_data):\n",
    "        print(f\"File not found: {real_time_data}\")\n",
    "        return\n",
    "\n",
    "    # Read the source and target CSV files\n",
    "    try:\n",
    "        measurements_df = pd.read_csv(measurements_file)\n",
    "        try2_df = pd.read_csv(real_time_data)\n",
    "    except Exception as e:\n",
    "        print(f\"Error reading CSV files: {e}\")\n",
    "        return\n",
    "\n",
    "    # Ensure the columns of try2_df match the columns of measurements_df\n",
    "    try:\n",
    "        try2_df = try2_df[measurements_df.columns]\n",
    "        # Save the reordered try2_df (if not already in the correct order)\n",
    "        try2_df.to_csv(real_time_data, index=False)\n",
    "    except Exception as e:\n",
    "        print(f\"Error processing try2_df: {e}\")\n",
    "        return\n",
    "\n",
    "    # Simulate real-time streaming\n",
    "    for index, row in measurements_df.iterrows():\n",
    "        append_row_to_csv(real_time_data, row)\n",
    "        print(f\"Appended row {index + 1} to try-2.csv\")\n",
    "        time.sleep(5)  # Wait for 5 seconds before appending the next row\n",
    "\n",
    "    print(\"Finished streaming data from measurements-1.csv to try-2.csv.\")\n",
    "\n",
    "if __name__ == \"__main__\":\n",
    "    main()\n"
   ]
  }
 ],
 "metadata": {
  "kernelspec": {
   "display_name": "Python 3",
   "language": "python",
   "name": "python3"
  },
  "language_info": {
   "codemirror_mode": {
    "name": "ipython",
    "version": 3
   },
   "file_extension": ".py",
   "mimetype": "text/x-python",
   "name": "python",
   "nbconvert_exporter": "python",
   "pygments_lexer": "ipython3",
   "version": "3.11.5"
  }
 },
 "nbformat": 4,
 "nbformat_minor": 2
}
