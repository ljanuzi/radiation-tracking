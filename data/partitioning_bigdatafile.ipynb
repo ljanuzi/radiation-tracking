{
 "cells": [
  {
   "cell_type": "code",
   "execution_count": null,
   "metadata": {},
   "outputs": [],
   "source": [
    "import os\n",
    "\n",
    "def split_csv(file_path, max_file_size=500 * 1024 * 1024):  # max_file_size in bytes\n",
    "    # Check if the file exists\n",
    "    if not os.path.exists(file_path):\n",
    "        print(\"File does not exist.\")\n",
    "        return\n",
    "\n",
    "    # Initialize variables\n",
    "    part_num = 1\n",
    "    current_size = 0\n",
    "    current_file = None\n",
    "    output_file = None\n",
    "    header = None\n",
    "\n",
    "    with open(file_path, 'r', encoding='utf-8') as file:\n",
    "        for line in file:\n",
    "            # Capture the header to replicate across all parts\n",
    "            if header is None:\n",
    "                header = line\n",
    "                continue\n",
    "\n",
    "            # Open a new file if necessary\n",
    "            if current_file is None or current_size + len(line.encode('utf-8')) > max_file_size:\n",
    "                if current_file is not None:\n",
    "                    current_file.close()\n",
    "                current_file_path = f\"{file_path}_part_{part_num}.csv\"\n",
    "                current_file = open(current_file_path, 'w', encoding='utf-8')\n",
    "                current_file.write(header)  # Write the header to each new file\n",
    "                part_num += 1\n",
    "                current_size = len(header.encode('utf-8'))\n",
    "\n",
    "            # Write the current line to the active file\n",
    "            current_file.write(line)\n",
    "            current_size += len(line.encode('utf-8'))\n",
    "\n",
    "    # Close the last file\n",
    "    if current_file is not None:\n",
    "        current_file.close()\n",
    "\n",
    "    print(f\"Split completed. {part_num - 1} parts were created.\")\n",
    "\n",
    "# Replace 'path_to_your_large_csv.csv' with the path to your CSV file\n",
    "split_csv('kafka_setup\\data\\input\\measurements.csv')\n"
   ]
  }
 ],
 "metadata": {
  "language_info": {
   "name": "python"
  }
 },
 "nbformat": 4,
 "nbformat_minor": 2
}
